{
  "nbformat": 4,
  "nbformat_minor": 0,
  "metadata": {
    "colab": {
      "name": "Hyperparam.ipynb",
      "provenance": [],
      "authorship_tag": "ABX9TyMvJxNMZtk6+VibYndMPLJR",
      "include_colab_link": true
    },
    "kernelspec": {
      "name": "python3",
      "display_name": "Python 3"
    },
    "language_info": {
      "name": "python"
    }
  },
  "cells": [
    {
      "cell_type": "markdown",
      "metadata": {
        "id": "view-in-github",
        "colab_type": "text"
      },
      "source": [
        "<a href=\"https://colab.research.google.com/github/lakshaygola/TensorFlow-And-DeepLearning/blob/main/Hyperparameter.ipynb\" target=\"_parent\"><img src=\"https://colab.research.google.com/assets/colab-badge.svg\" alt=\"Open In Colab\"/></a>"
      ]
    },
    {
      "cell_type": "code",
      "metadata": {
        "colab": {
          "base_uri": "https://localhost:8080/"
        },
        "id": "W3GXOAj7gzlq",
        "outputId": "269d321a-aaec-40a0-f2be-416b83f5f5a9"
      },
      "source": [
        "!pip install -q -U keras-tuner"
      ],
      "execution_count": 1,
      "outputs": [
        {
          "output_type": "stream",
          "text": [
            "\u001b[?25l\r\u001b[K     |█████▏                          | 10kB 17.4MB/s eta 0:00:01\r\u001b[K     |██████████▍                     | 20kB 15.2MB/s eta 0:00:01\r\u001b[K     |███████████████▋                | 30kB 9.8MB/s eta 0:00:01\r\u001b[K     |████████████████████▉           | 40kB 7.4MB/s eta 0:00:01\r\u001b[K     |██████████████████████████      | 51kB 3.9MB/s eta 0:00:01\r\u001b[K     |███████████████████████████████▎| 61kB 4.4MB/s eta 0:00:01\r\u001b[K     |████████████████████████████████| 71kB 3.0MB/s \n",
            "\u001b[?25h  Building wheel for keras-tuner (setup.py) ... \u001b[?25l\u001b[?25hdone\n",
            "  Building wheel for terminaltables (setup.py) ... \u001b[?25l\u001b[?25hdone\n"
          ],
          "name": "stdout"
        }
      ]
    },
    {
      "cell_type": "code",
      "metadata": {
        "id": "vHSqnhc9f-n3"
      },
      "source": [
        "import keras\n",
        "import tensorflow as tf\n",
        "import kerastuner as kt \n",
        "from tensorflow import keras"
      ],
      "execution_count": 2,
      "outputs": []
    },
    {
      "cell_type": "markdown",
      "metadata": {
        "id": "jkvy8COjgvJK"
      },
      "source": [
        "# Downloading the data\n",
        "\n",
        "Donwnloading the dataset (fashion clothing dataset present in keras) and making the train and test datasets from the data\n"
      ]
    },
    {
      "cell_type": "code",
      "metadata": {
        "id": "fQDDaEgWgrzS",
        "colab": {
          "base_uri": "https://localhost:8080/"
        },
        "outputId": "98bf62fb-0de0-4e41-b360-edc48d6cf5cd"
      },
      "source": [
        "(image_train, label_train), (image_test, label_test)= keras.datasets.fashion_mnist.load_data()"
      ],
      "execution_count": 3,
      "outputs": [
        {
          "output_type": "stream",
          "text": [
            "Downloading data from https://storage.googleapis.com/tensorflow/tf-keras-datasets/train-labels-idx1-ubyte.gz\n",
            "32768/29515 [=================================] - 0s 0us/step\n",
            "Downloading data from https://storage.googleapis.com/tensorflow/tf-keras-datasets/train-images-idx3-ubyte.gz\n",
            "26427392/26421880 [==============================] - 0s 0us/step\n",
            "Downloading data from https://storage.googleapis.com/tensorflow/tf-keras-datasets/t10k-labels-idx1-ubyte.gz\n",
            "8192/5148 [===============================================] - 0s 0us/step\n",
            "Downloading data from https://storage.googleapis.com/tensorflow/tf-keras-datasets/t10k-images-idx3-ubyte.gz\n",
            "4423680/4422102 [==============================] - 0s 0us/step\n"
          ],
          "name": "stdout"
        }
      ]
    },
    {
      "cell_type": "code",
      "metadata": {
        "colab": {
          "base_uri": "https://localhost:8080/"
        },
        "id": "_rTGa52VhtBj",
        "outputId": "30d163aa-96f4-41a9-b9c7-4c815599e19d"
      },
      "source": [
        "label_train"
      ],
      "execution_count": 4,
      "outputs": [
        {
          "output_type": "execute_result",
          "data": {
            "text/plain": [
              "array([9, 0, 0, ..., 3, 0, 5], dtype=uint8)"
            ]
          },
          "metadata": {
            "tags": []
          },
          "execution_count": 4
        }
      ]
    },
    {
      "cell_type": "code",
      "metadata": {
        "id": "TXfZ7fIgoMxl"
      },
      "source": [
        "# Normalizing the image data\n",
        "image_train= image_train.astype('float') / 255.0\n",
        "image_test= image_test.astype('float') / 255.0"
      ],
      "execution_count": 5,
      "outputs": []
    },
    {
      "cell_type": "code",
      "metadata": {
        "id": "QQrQT8QVhv4C"
      },
      "source": [
        "# Defing the model \n",
        "def build_model(hp):\n",
        "  # Initializing the model\n",
        "  model= keras.Sequential()\n",
        "  model.add(keras.layers.Flatten(input_shape= (28,28)))\n",
        "  \n",
        "  # To select the numbers of input you want from this layer (that will be between 32, 512)\n",
        "  random_units= hp.Int('num_layer', 32, 512)\n",
        "  model.add(keras.layers.Dense(units= random_units, activation= 'relu'))\n",
        "  # Final output for the layer will be equal to 10\n",
        "  model.add(keras.layers.Dense(10))\n",
        "\n",
        "  # Selecting the learning_rate from the given list of numbers\n",
        "  learning_rate= hp.Choice('learning_rate', values= [0.001, 0.0001, 0.00001])\n",
        "\n",
        "  # Compiling the model \n",
        "  model.compile(optimizer= keras.optimizers.Adam(learning_rate= learning_rate),\n",
        "                loss= keras.losses.SparseCategoricalCrossentropy(from_logits= True),\n",
        "                metrics= ['accuracy'])\n",
        "  \n",
        "  return model"
      ],
      "execution_count": 15,
      "outputs": []
    },
    {
      "cell_type": "code",
      "metadata": {
        "id": "qA0XKl0Jsqbt"
      },
      "source": [
        "# Intializing the hyperparameter \n",
        "tuner = kt.Hyperband(build_model, \n",
        "                     objective= 'val_accuracy',    # which we want to increase in our model\n",
        "                     max_epochs= 10, \n",
        "                     factor= 3,\n",
        "                     directory= 'my_dir', \n",
        "                     project_name= 'intro_to_kit')"
      ],
      "execution_count": 16,
      "outputs": []
    },
    {
      "cell_type": "code",
      "metadata": {
        "id": "d4vXulQDt03m"
      },
      "source": [
        "# now making the callback for the early stop\n",
        "early_stop= keras.callbacks.EarlyStopping(monitor='val_accuracy', patience= 4)"
      ],
      "execution_count": 17,
      "outputs": []
    },
    {
      "cell_type": "code",
      "metadata": {
        "colab": {
          "base_uri": "https://localhost:8080/"
        },
        "id": "Pt_Ai_lMyrzF",
        "outputId": "e24a1832-167d-4b61-c05e-b1d36aed5be2"
      },
      "source": [
        "# Let search the optimial solution for the model\n",
        "tuner.search(image_train, label_train, epochs=30, validation_split= 0.2, callbacks= [early_stop])\n",
        "\n",
        "best_param= tuner.get_best_hyperparameters(num_trials= 1)[0]"
      ],
      "execution_count": 19,
      "outputs": [
        {
          "output_type": "stream",
          "text": [
            "Trial 31 Complete [00h 00m 42s]\n",
            "val_accuracy: 0.8320000171661377\n",
            "\n",
            "Best val_accuracy So Far: 0.8862500190734863\n",
            "Total elapsed time: 00h 11m 28s\n",
            "INFO:tensorflow:Oracle triggered exit\n"
          ],
          "name": "stdout"
        }
      ]
    },
    {
      "cell_type": "code",
      "metadata": {
        "colab": {
          "base_uri": "https://localhost:8080/"
        },
        "id": "xHnjHMYjzNp3",
        "outputId": "6d980ada-c11d-4df1-fb78-4cea0a0a35ae"
      },
      "source": [
        "best_param.get('learning_rate'), best_param.get('num_layer')"
      ],
      "execution_count": 28,
      "outputs": [
        {
          "output_type": "execute_result",
          "data": {
            "text/plain": [
              "(0.001, 284)"
            ]
          },
          "metadata": {
            "tags": []
          },
          "execution_count": 28
        }
      ]
    },
    {
      "cell_type": "code",
      "metadata": {
        "id": "xyeRX1UN3BS-"
      },
      "source": [
        ""
      ],
      "execution_count": null,
      "outputs": []
    }
  ]
}
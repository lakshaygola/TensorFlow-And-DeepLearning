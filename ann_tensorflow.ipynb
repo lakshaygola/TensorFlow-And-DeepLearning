{
  "nbformat": 4,
  "nbformat_minor": 0,
  "metadata": {
    "colab": {
      "name": "ann-tensorflow.ipynb",
      "provenance": [],
      "include_colab_link": true
    },
    "kernelspec": {
      "display_name": "Python 3",
      "language": "python",
      "name": "python3"
    },
    "language_info": {
      "codemirror_mode": {
        "name": "ipython",
        "version": 3
      },
      "file_extension": ".py",
      "mimetype": "text/x-python",
      "name": "python",
      "nbconvert_exporter": "python",
      "pygments_lexer": "ipython3",
      "version": "3.7.6"
    }
  },
  "cells": [
    {
      "cell_type": "markdown",
      "metadata": {
        "id": "view-in-github",
        "colab_type": "text"
      },
      "source": [
        "<a href=\"https://colab.research.google.com/github/lakshaygola/TensorFlow-And-DeepLearning/blob/main/ann_tensorflow.ipynb\" target=\"_parent\"><img src=\"https://colab.research.google.com/assets/colab-badge.svg\" alt=\"Open In Colab\"/></a>"
      ]
    },
    {
      "cell_type": "code",
      "metadata": {
        "id": "whHwm_NkZUa1",
        "colab": {
          "base_uri": "https://localhost:8080/"
        },
        "outputId": "3a71d1b1-2f74-44f0-c402-fb78e431e8ac"
      },
      "source": [
        "# Jovian Commit Essentials\n",
        "# Please retain and execute this cell without modifying the contents for `jovian.commit` to work\n",
        "!pip install jovian --upgrade -q\n",
        "import jovian\n",
        "jovian.set_project('ann-tensorflow')\n",
        "jovian.set_colab_id('1HdjXOSpogLdroRMM0TORsTHhdKvVdPf6')"
      ],
      "execution_count": 1,
      "outputs": [
        {
          "output_type": "stream",
          "text": [
            "\u001b[?25l\r\u001b[K     |████▉                           | 10kB 20.7MB/s eta 0:00:01\r\u001b[K     |█████████▊                      | 20kB 26.8MB/s eta 0:00:01\r\u001b[K     |██████████████▌                 | 30kB 30.0MB/s eta 0:00:01\r\u001b[K     |███████████████████▍            | 40kB 22.3MB/s eta 0:00:01\r\u001b[K     |████████████████████████▏       | 51kB 21.1MB/s eta 0:00:01\r\u001b[K     |█████████████████████████████   | 61kB 15.5MB/s eta 0:00:01\r\u001b[K     |████████████████████████████████| 71kB 6.3MB/s \n",
            "\u001b[?25h  Building wheel for uuid (setup.py) ... \u001b[?25l\u001b[?25hdone\n"
          ],
          "name": "stdout"
        }
      ]
    },
    {
      "cell_type": "markdown",
      "metadata": {
        "id": "4-b8dl37R2gx"
      },
      "source": [
        "# ann-tensorflow\n",
        "\n",
        "Use the \"Run\" button to execute the code."
      ]
    },
    {
      "cell_type": "code",
      "metadata": {
        "id": "mmwWIqCDR2gy"
      },
      "source": [
        "!pip install opendatasets --upgrade --quiet\n",
        "!pip install jovian --upgrade --quiet"
      ],
      "execution_count": 2,
      "outputs": []
    },
    {
      "cell_type": "code",
      "metadata": {
        "id": "SROIJfPiR2gy"
      },
      "source": [
        "import jovian"
      ],
      "execution_count": 3,
      "outputs": []
    },
    {
      "cell_type": "code",
      "metadata": {
        "id": "64v6gbYBR2gz"
      },
      "source": [
        "# Execute this to save new versions of the notebook\n",
        "jovian.commit(project=\"ann-tensorflow\")"
      ],
      "execution_count": null,
      "outputs": []
    },
    {
      "cell_type": "code",
      "metadata": {
        "id": "YgqD4GLLR2gz"
      },
      "source": [
        "porject_name= 'ann-tensorflow'"
      ],
      "execution_count": 5,
      "outputs": []
    },
    {
      "cell_type": "code",
      "metadata": {
        "id": "VIzhHlgPSHXp"
      },
      "source": [
        "import os \n",
        "import numpy as np\n",
        "import pandas as pd\n",
        "import opendatasets as od\n",
        "import tensorflow as tf\n",
        "import keras\n",
        "from keras import Sequential\n",
        "from keras.layers import Dense\n",
        "from keras.layers import LeakyReLU, ReLU\n",
        "from keras.layers import Dropout\n",
        "\n",
        "import matplotlib.pyplot as plt\n",
        "%matplotlib inline"
      ],
      "execution_count": 28,
      "outputs": []
    },
    {
      "cell_type": "code",
      "metadata": {
        "colab": {
          "base_uri": "https://localhost:8080/"
        },
        "id": "xaa2bAkoSVgR",
        "outputId": "15128cfa-c343-4ca4-ef2a-1bd2032aca7d"
      },
      "source": [
        "# Downloading the dataset\n",
        "dataset_url= 'https://www.kaggle.com/shrutimechlearn/churn-modelling?select=Churn_Modelling.csv'\n",
        "\n",
        "od.download(dataset_url)"
      ],
      "execution_count": 7,
      "outputs": [
        {
          "output_type": "stream",
          "text": [
            "Please provide your Kaggle credentials to download this dataset. Learn more: http://bit.ly/kaggle-creds\n",
            "Your Kaggle username: lakshaygola\n",
            "Your Kaggle Key: ··········\n"
          ],
          "name": "stdout"
        },
        {
          "output_type": "stream",
          "text": [
            "100%|██████████| 262k/262k [00:00<00:00, 53.7MB/s]"
          ],
          "name": "stderr"
        },
        {
          "output_type": "stream",
          "text": [
            "Downloading churn-modelling.zip to ./churn-modelling\n",
            "\n"
          ],
          "name": "stdout"
        },
        {
          "output_type": "stream",
          "text": [
            "\n"
          ],
          "name": "stderr"
        }
      ]
    },
    {
      "cell_type": "code",
      "metadata": {
        "colab": {
          "base_uri": "https://localhost:8080/"
        },
        "id": "fntm4jYqSiKS",
        "outputId": "d4e53e2c-4c05-4d0a-da86-030508adf207"
      },
      "source": [
        "# Making a directory to store the dataset\n",
        "data_dir= './churn-modelling'\n",
        "\n",
        "print(os.listdir(data_dir))"
      ],
      "execution_count": 8,
      "outputs": [
        {
          "output_type": "stream",
          "text": [
            "['Churn_Modelling.csv']\n"
          ],
          "name": "stdout"
        }
      ]
    },
    {
      "cell_type": "code",
      "metadata": {
        "colab": {
          "base_uri": "https://localhost:8080/",
          "height": 195
        },
        "id": "rrrbkzZaSyty",
        "outputId": "c0f1d9c8-d73d-45da-d08f-b4ea019d75df"
      },
      "source": [
        "# Reading the dataset using pandas\n",
        "data= pd.read_csv('/content/churn-modelling/Churn_Modelling.csv')\n",
        "data.head()"
      ],
      "execution_count": 9,
      "outputs": [
        {
          "output_type": "execute_result",
          "data": {
            "text/html": [
              "<div>\n",
              "<style scoped>\n",
              "    .dataframe tbody tr th:only-of-type {\n",
              "        vertical-align: middle;\n",
              "    }\n",
              "\n",
              "    .dataframe tbody tr th {\n",
              "        vertical-align: top;\n",
              "    }\n",
              "\n",
              "    .dataframe thead th {\n",
              "        text-align: right;\n",
              "    }\n",
              "</style>\n",
              "<table border=\"1\" class=\"dataframe\">\n",
              "  <thead>\n",
              "    <tr style=\"text-align: right;\">\n",
              "      <th></th>\n",
              "      <th>RowNumber</th>\n",
              "      <th>CustomerId</th>\n",
              "      <th>Surname</th>\n",
              "      <th>CreditScore</th>\n",
              "      <th>Geography</th>\n",
              "      <th>Gender</th>\n",
              "      <th>Age</th>\n",
              "      <th>Tenure</th>\n",
              "      <th>Balance</th>\n",
              "      <th>NumOfProducts</th>\n",
              "      <th>HasCrCard</th>\n",
              "      <th>IsActiveMember</th>\n",
              "      <th>EstimatedSalary</th>\n",
              "      <th>Exited</th>\n",
              "    </tr>\n",
              "  </thead>\n",
              "  <tbody>\n",
              "    <tr>\n",
              "      <th>0</th>\n",
              "      <td>1</td>\n",
              "      <td>15634602</td>\n",
              "      <td>Hargrave</td>\n",
              "      <td>619</td>\n",
              "      <td>France</td>\n",
              "      <td>Female</td>\n",
              "      <td>42</td>\n",
              "      <td>2</td>\n",
              "      <td>0.00</td>\n",
              "      <td>1</td>\n",
              "      <td>1</td>\n",
              "      <td>1</td>\n",
              "      <td>101348.88</td>\n",
              "      <td>1</td>\n",
              "    </tr>\n",
              "    <tr>\n",
              "      <th>1</th>\n",
              "      <td>2</td>\n",
              "      <td>15647311</td>\n",
              "      <td>Hill</td>\n",
              "      <td>608</td>\n",
              "      <td>Spain</td>\n",
              "      <td>Female</td>\n",
              "      <td>41</td>\n",
              "      <td>1</td>\n",
              "      <td>83807.86</td>\n",
              "      <td>1</td>\n",
              "      <td>0</td>\n",
              "      <td>1</td>\n",
              "      <td>112542.58</td>\n",
              "      <td>0</td>\n",
              "    </tr>\n",
              "    <tr>\n",
              "      <th>2</th>\n",
              "      <td>3</td>\n",
              "      <td>15619304</td>\n",
              "      <td>Onio</td>\n",
              "      <td>502</td>\n",
              "      <td>France</td>\n",
              "      <td>Female</td>\n",
              "      <td>42</td>\n",
              "      <td>8</td>\n",
              "      <td>159660.80</td>\n",
              "      <td>3</td>\n",
              "      <td>1</td>\n",
              "      <td>0</td>\n",
              "      <td>113931.57</td>\n",
              "      <td>1</td>\n",
              "    </tr>\n",
              "    <tr>\n",
              "      <th>3</th>\n",
              "      <td>4</td>\n",
              "      <td>15701354</td>\n",
              "      <td>Boni</td>\n",
              "      <td>699</td>\n",
              "      <td>France</td>\n",
              "      <td>Female</td>\n",
              "      <td>39</td>\n",
              "      <td>1</td>\n",
              "      <td>0.00</td>\n",
              "      <td>2</td>\n",
              "      <td>0</td>\n",
              "      <td>0</td>\n",
              "      <td>93826.63</td>\n",
              "      <td>0</td>\n",
              "    </tr>\n",
              "    <tr>\n",
              "      <th>4</th>\n",
              "      <td>5</td>\n",
              "      <td>15737888</td>\n",
              "      <td>Mitchell</td>\n",
              "      <td>850</td>\n",
              "      <td>Spain</td>\n",
              "      <td>Female</td>\n",
              "      <td>43</td>\n",
              "      <td>2</td>\n",
              "      <td>125510.82</td>\n",
              "      <td>1</td>\n",
              "      <td>1</td>\n",
              "      <td>1</td>\n",
              "      <td>79084.10</td>\n",
              "      <td>0</td>\n",
              "    </tr>\n",
              "  </tbody>\n",
              "</table>\n",
              "</div>"
            ],
            "text/plain": [
              "   RowNumber  CustomerId   Surname  ...  IsActiveMember EstimatedSalary Exited\n",
              "0          1    15634602  Hargrave  ...               1       101348.88      1\n",
              "1          2    15647311      Hill  ...               1       112542.58      0\n",
              "2          3    15619304      Onio  ...               0       113931.57      1\n",
              "3          4    15701354      Boni  ...               0        93826.63      0\n",
              "4          5    15737888  Mitchell  ...               1        79084.10      0\n",
              "\n",
              "[5 rows x 14 columns]"
            ]
          },
          "metadata": {
            "tags": []
          },
          "execution_count": 9
        }
      ]
    },
    {
      "cell_type": "code",
      "metadata": {
        "id": "do884IkOTfrL"
      },
      "source": [
        "# Separating the independent and dependent dataset\n",
        "x= data.iloc[:, 3:-1] \n",
        "y= data.iloc[:, -1:]"
      ],
      "execution_count": 10,
      "outputs": []
    },
    {
      "cell_type": "code",
      "metadata": {
        "id": "tjWA56HeZv2g"
      },
      "source": [
        "# Creating dummies variable of the categorical variable\n",
        "geography= pd.get_dummies(x['Geography'], drop_first= True)\n",
        "gender= pd.get_dummies(x['Gender'], drop_first= True)"
      ],
      "execution_count": 11,
      "outputs": []
    },
    {
      "cell_type": "code",
      "metadata": {
        "id": "7UJqDYNibffZ"
      },
      "source": [
        "# Concating the dummies variable in the data set\n",
        "X= pd.concat([x, geography, gender], axis= 1)\n",
        "\n",
        "# Droping the categorical columns of the dummies variable\n",
        "x= X.drop(['Geography', 'Gender'], axis= 1)"
      ],
      "execution_count": 12,
      "outputs": []
    },
    {
      "cell_type": "code",
      "metadata": {
        "colab": {
          "base_uri": "https://localhost:8080/",
          "height": 195
        },
        "id": "-cQSAIAkcUMf",
        "outputId": "7c9f316e-cef1-4855-d349-7b6086fb6c8d"
      },
      "source": [
        "x.head()"
      ],
      "execution_count": 13,
      "outputs": [
        {
          "output_type": "execute_result",
          "data": {
            "text/html": [
              "<div>\n",
              "<style scoped>\n",
              "    .dataframe tbody tr th:only-of-type {\n",
              "        vertical-align: middle;\n",
              "    }\n",
              "\n",
              "    .dataframe tbody tr th {\n",
              "        vertical-align: top;\n",
              "    }\n",
              "\n",
              "    .dataframe thead th {\n",
              "        text-align: right;\n",
              "    }\n",
              "</style>\n",
              "<table border=\"1\" class=\"dataframe\">\n",
              "  <thead>\n",
              "    <tr style=\"text-align: right;\">\n",
              "      <th></th>\n",
              "      <th>CreditScore</th>\n",
              "      <th>Age</th>\n",
              "      <th>Tenure</th>\n",
              "      <th>Balance</th>\n",
              "      <th>NumOfProducts</th>\n",
              "      <th>HasCrCard</th>\n",
              "      <th>IsActiveMember</th>\n",
              "      <th>EstimatedSalary</th>\n",
              "      <th>Germany</th>\n",
              "      <th>Spain</th>\n",
              "      <th>Male</th>\n",
              "    </tr>\n",
              "  </thead>\n",
              "  <tbody>\n",
              "    <tr>\n",
              "      <th>0</th>\n",
              "      <td>619</td>\n",
              "      <td>42</td>\n",
              "      <td>2</td>\n",
              "      <td>0.00</td>\n",
              "      <td>1</td>\n",
              "      <td>1</td>\n",
              "      <td>1</td>\n",
              "      <td>101348.88</td>\n",
              "      <td>0</td>\n",
              "      <td>0</td>\n",
              "      <td>0</td>\n",
              "    </tr>\n",
              "    <tr>\n",
              "      <th>1</th>\n",
              "      <td>608</td>\n",
              "      <td>41</td>\n",
              "      <td>1</td>\n",
              "      <td>83807.86</td>\n",
              "      <td>1</td>\n",
              "      <td>0</td>\n",
              "      <td>1</td>\n",
              "      <td>112542.58</td>\n",
              "      <td>0</td>\n",
              "      <td>1</td>\n",
              "      <td>0</td>\n",
              "    </tr>\n",
              "    <tr>\n",
              "      <th>2</th>\n",
              "      <td>502</td>\n",
              "      <td>42</td>\n",
              "      <td>8</td>\n",
              "      <td>159660.80</td>\n",
              "      <td>3</td>\n",
              "      <td>1</td>\n",
              "      <td>0</td>\n",
              "      <td>113931.57</td>\n",
              "      <td>0</td>\n",
              "      <td>0</td>\n",
              "      <td>0</td>\n",
              "    </tr>\n",
              "    <tr>\n",
              "      <th>3</th>\n",
              "      <td>699</td>\n",
              "      <td>39</td>\n",
              "      <td>1</td>\n",
              "      <td>0.00</td>\n",
              "      <td>2</td>\n",
              "      <td>0</td>\n",
              "      <td>0</td>\n",
              "      <td>93826.63</td>\n",
              "      <td>0</td>\n",
              "      <td>0</td>\n",
              "      <td>0</td>\n",
              "    </tr>\n",
              "    <tr>\n",
              "      <th>4</th>\n",
              "      <td>850</td>\n",
              "      <td>43</td>\n",
              "      <td>2</td>\n",
              "      <td>125510.82</td>\n",
              "      <td>1</td>\n",
              "      <td>1</td>\n",
              "      <td>1</td>\n",
              "      <td>79084.10</td>\n",
              "      <td>0</td>\n",
              "      <td>1</td>\n",
              "      <td>0</td>\n",
              "    </tr>\n",
              "  </tbody>\n",
              "</table>\n",
              "</div>"
            ],
            "text/plain": [
              "   CreditScore  Age  Tenure    Balance  ...  EstimatedSalary  Germany  Spain  Male\n",
              "0          619   42       2       0.00  ...        101348.88        0      0     0\n",
              "1          608   41       1   83807.86  ...        112542.58        0      1     0\n",
              "2          502   42       8  159660.80  ...        113931.57        0      0     0\n",
              "3          699   39       1       0.00  ...         93826.63        0      0     0\n",
              "4          850   43       2  125510.82  ...         79084.10        0      1     0\n",
              "\n",
              "[5 rows x 11 columns]"
            ]
          },
          "metadata": {
            "tags": []
          },
          "execution_count": 13
        }
      ]
    },
    {
      "cell_type": "code",
      "metadata": {
        "colab": {
          "base_uri": "https://localhost:8080/",
          "height": 107
        },
        "id": "t2Mq46dWcdNX",
        "outputId": "06654fdf-58bb-4fc2-e51f-b5eb4dcc4e58"
      },
      "source": [
        "jovian.commit(porject= project_name)"
      ],
      "execution_count": null,
      "outputs": [
        {
          "output_type": "stream",
          "text": [
            "[jovian] Detected Colab notebook...\u001b[0m\n",
            "[jovian] Uploading colab notebook to Jovian...\u001b[0m\n",
            "[jovian] Capturing environment..\u001b[0m\n",
            "[jovian] Committed successfully! https://jovian.ai/lakshaygola/ann-tensorflow\u001b[0m\n"
          ],
          "name": "stdout"
        },
        {
          "output_type": "execute_result",
          "data": {
            "application/vnd.google.colaboratory.intrinsic+json": {
              "type": "string"
            },
            "text/plain": [
              "'https://jovian.ai/lakshaygola/ann-tensorflow'"
            ]
          },
          "metadata": {
            "tags": []
          },
          "execution_count": 82
        }
      ]
    },
    {
      "cell_type": "code",
      "metadata": {
        "id": "PyjDmrZ8cXO_"
      },
      "source": [
        "# Now spliting the dataset into training data and test data\n",
        "from sklearn.model_selection import train_test_split\n",
        "xtrain, xtest, ytrain, ytest= train_test_split(x, y, test_size= 0.2, random_state= 10)"
      ],
      "execution_count": 14,
      "outputs": []
    },
    {
      "cell_type": "code",
      "metadata": {
        "colab": {
          "base_uri": "https://localhost:8080/",
          "height": 402
        },
        "id": "u9CZ-dEqeYtH",
        "outputId": "7203f0e7-daa0-424d-e329-4e9d135d026f"
      },
      "source": [
        "xtrain"
      ],
      "execution_count": 15,
      "outputs": [
        {
          "output_type": "execute_result",
          "data": {
            "text/html": [
              "<div>\n",
              "<style scoped>\n",
              "    .dataframe tbody tr th:only-of-type {\n",
              "        vertical-align: middle;\n",
              "    }\n",
              "\n",
              "    .dataframe tbody tr th {\n",
              "        vertical-align: top;\n",
              "    }\n",
              "\n",
              "    .dataframe thead th {\n",
              "        text-align: right;\n",
              "    }\n",
              "</style>\n",
              "<table border=\"1\" class=\"dataframe\">\n",
              "  <thead>\n",
              "    <tr style=\"text-align: right;\">\n",
              "      <th></th>\n",
              "      <th>CreditScore</th>\n",
              "      <th>Age</th>\n",
              "      <th>Tenure</th>\n",
              "      <th>Balance</th>\n",
              "      <th>NumOfProducts</th>\n",
              "      <th>HasCrCard</th>\n",
              "      <th>IsActiveMember</th>\n",
              "      <th>EstimatedSalary</th>\n",
              "      <th>Germany</th>\n",
              "      <th>Spain</th>\n",
              "      <th>Male</th>\n",
              "    </tr>\n",
              "  </thead>\n",
              "  <tbody>\n",
              "    <tr>\n",
              "      <th>7496</th>\n",
              "      <td>824</td>\n",
              "      <td>49</td>\n",
              "      <td>8</td>\n",
              "      <td>133231.48</td>\n",
              "      <td>1</td>\n",
              "      <td>1</td>\n",
              "      <td>1</td>\n",
              "      <td>67885.37</td>\n",
              "      <td>1</td>\n",
              "      <td>0</td>\n",
              "      <td>1</td>\n",
              "    </tr>\n",
              "    <tr>\n",
              "      <th>7694</th>\n",
              "      <td>676</td>\n",
              "      <td>64</td>\n",
              "      <td>4</td>\n",
              "      <td>116954.32</td>\n",
              "      <td>1</td>\n",
              "      <td>1</td>\n",
              "      <td>1</td>\n",
              "      <td>91149.48</td>\n",
              "      <td>0</td>\n",
              "      <td>1</td>\n",
              "      <td>0</td>\n",
              "    </tr>\n",
              "    <tr>\n",
              "      <th>9248</th>\n",
              "      <td>629</td>\n",
              "      <td>34</td>\n",
              "      <td>6</td>\n",
              "      <td>0.00</td>\n",
              "      <td>2</td>\n",
              "      <td>1</td>\n",
              "      <td>0</td>\n",
              "      <td>190347.72</td>\n",
              "      <td>0</td>\n",
              "      <td>1</td>\n",
              "      <td>1</td>\n",
              "    </tr>\n",
              "    <tr>\n",
              "      <th>2470</th>\n",
              "      <td>689</td>\n",
              "      <td>31</td>\n",
              "      <td>3</td>\n",
              "      <td>139799.63</td>\n",
              "      <td>1</td>\n",
              "      <td>0</td>\n",
              "      <td>1</td>\n",
              "      <td>120663.57</td>\n",
              "      <td>0</td>\n",
              "      <td>1</td>\n",
              "      <td>0</td>\n",
              "    </tr>\n",
              "    <tr>\n",
              "      <th>4392</th>\n",
              "      <td>787</td>\n",
              "      <td>51</td>\n",
              "      <td>0</td>\n",
              "      <td>58137.08</td>\n",
              "      <td>1</td>\n",
              "      <td>0</td>\n",
              "      <td>1</td>\n",
              "      <td>142538.31</td>\n",
              "      <td>0</td>\n",
              "      <td>0</td>\n",
              "      <td>1</td>\n",
              "    </tr>\n",
              "    <tr>\n",
              "      <th>...</th>\n",
              "      <td>...</td>\n",
              "      <td>...</td>\n",
              "      <td>...</td>\n",
              "      <td>...</td>\n",
              "      <td>...</td>\n",
              "      <td>...</td>\n",
              "      <td>...</td>\n",
              "      <td>...</td>\n",
              "      <td>...</td>\n",
              "      <td>...</td>\n",
              "      <td>...</td>\n",
              "    </tr>\n",
              "    <tr>\n",
              "      <th>9372</th>\n",
              "      <td>677</td>\n",
              "      <td>30</td>\n",
              "      <td>1</td>\n",
              "      <td>78133.15</td>\n",
              "      <td>1</td>\n",
              "      <td>0</td>\n",
              "      <td>1</td>\n",
              "      <td>174225.88</td>\n",
              "      <td>0</td>\n",
              "      <td>0</td>\n",
              "      <td>1</td>\n",
              "    </tr>\n",
              "    <tr>\n",
              "      <th>7291</th>\n",
              "      <td>599</td>\n",
              "      <td>33</td>\n",
              "      <td>4</td>\n",
              "      <td>51690.89</td>\n",
              "      <td>1</td>\n",
              "      <td>1</td>\n",
              "      <td>0</td>\n",
              "      <td>111622.76</td>\n",
              "      <td>0</td>\n",
              "      <td>1</td>\n",
              "      <td>1</td>\n",
              "    </tr>\n",
              "    <tr>\n",
              "      <th>1344</th>\n",
              "      <td>460</td>\n",
              "      <td>40</td>\n",
              "      <td>6</td>\n",
              "      <td>119507.58</td>\n",
              "      <td>2</td>\n",
              "      <td>1</td>\n",
              "      <td>0</td>\n",
              "      <td>91560.63</td>\n",
              "      <td>1</td>\n",
              "      <td>0</td>\n",
              "      <td>0</td>\n",
              "    </tr>\n",
              "    <tr>\n",
              "      <th>7293</th>\n",
              "      <td>709</td>\n",
              "      <td>34</td>\n",
              "      <td>2</td>\n",
              "      <td>111669.68</td>\n",
              "      <td>1</td>\n",
              "      <td>1</td>\n",
              "      <td>0</td>\n",
              "      <td>57029.66</td>\n",
              "      <td>0</td>\n",
              "      <td>0</td>\n",
              "      <td>0</td>\n",
              "    </tr>\n",
              "    <tr>\n",
              "      <th>1289</th>\n",
              "      <td>672</td>\n",
              "      <td>40</td>\n",
              "      <td>10</td>\n",
              "      <td>102980.44</td>\n",
              "      <td>1</td>\n",
              "      <td>1</td>\n",
              "      <td>0</td>\n",
              "      <td>1285.81</td>\n",
              "      <td>1</td>\n",
              "      <td>0</td>\n",
              "      <td>1</td>\n",
              "    </tr>\n",
              "  </tbody>\n",
              "</table>\n",
              "<p>8000 rows × 11 columns</p>\n",
              "</div>"
            ],
            "text/plain": [
              "      CreditScore  Age  Tenure  ...  Germany  Spain  Male\n",
              "7496          824   49       8  ...        1      0     1\n",
              "7694          676   64       4  ...        0      1     0\n",
              "9248          629   34       6  ...        0      1     1\n",
              "2470          689   31       3  ...        0      1     0\n",
              "4392          787   51       0  ...        0      0     1\n",
              "...           ...  ...     ...  ...      ...    ...   ...\n",
              "9372          677   30       1  ...        0      0     1\n",
              "7291          599   33       4  ...        0      1     1\n",
              "1344          460   40       6  ...        1      0     0\n",
              "7293          709   34       2  ...        0      0     0\n",
              "1289          672   40      10  ...        1      0     1\n",
              "\n",
              "[8000 rows x 11 columns]"
            ]
          },
          "metadata": {
            "tags": []
          },
          "execution_count": 15
        }
      ]
    },
    {
      "cell_type": "code",
      "metadata": {
        "id": "Fr6FeA2Pdau3"
      },
      "source": [
        "# Appling the feature sacling on the input data xtrain and xtest\n",
        "from sklearn.preprocessing import StandardScaler\n",
        "scaler= StandardScaler()\n",
        "xtrain= scaler.fit_transform(xtrain)\n",
        "xtest= scaler.fit_transform(xtest)"
      ],
      "execution_count": 16,
      "outputs": []
    },
    {
      "cell_type": "code",
      "metadata": {
        "colab": {
          "base_uri": "https://localhost:8080/"
        },
        "id": "9FXrAz_Fd_V2",
        "outputId": "9bcf8826-718e-4d71-aeb3-721e20c6b193"
      },
      "source": [
        "xtrain"
      ],
      "execution_count": 17,
      "outputs": [
        {
          "output_type": "execute_result",
          "data": {
            "text/plain": [
              "array([[ 1.78974378,  0.94394225,  1.04271518, ...,  1.73436329,\n",
              "        -0.57388614,  0.91255717],\n",
              "       [ 0.26040483,  2.35932486, -0.35053238, ..., -0.57658047,\n",
              "         1.74250594, -1.09582175],\n",
              "       [-0.22526362, -0.47144036,  0.3460914 , ..., -0.57658047,\n",
              "         1.74250594,  0.91255717],\n",
              "       ...,\n",
              "       [-1.97160337,  0.09471269,  0.3460914 , ...,  1.73436329,\n",
              "        -0.57388614, -1.09582175],\n",
              "       [ 0.60140608, -0.47144036, -1.04715616, ..., -0.57658047,\n",
              "        -0.57388614, -1.09582175],\n",
              "       [ 0.21907135,  0.09471269,  1.73933896, ...,  1.73436329,\n",
              "        -0.57388614,  0.91255717]])"
            ]
          },
          "metadata": {
            "tags": []
          },
          "execution_count": 17
        }
      ]
    },
    {
      "cell_type": "code",
      "metadata": {
        "colab": {
          "base_uri": "https://localhost:8080/"
        },
        "id": "0VjSwb9Pe1K1",
        "outputId": "49485af4-ca39-48b7-a64d-278915445ac8"
      },
      "source": [
        "# Making artifical nerual network ANN\n",
        "classifer= Sequential()\n",
        "\n",
        "classifer.add(Dense(units= 8, kernel_initializer= 'he_uniform', activation= 'relu', input_dim= 11))\n",
        "classifer.add(Dropout(0.4))\n",
        "\n",
        "classifer.add(Dense(units= 6, kernel_initializer= 'he_uniform', activation= 'relu'))\n",
        "classifer.add(Dropout(0.3))\n",
        "\n",
        "classifer.add(Dense(units= 1, kernel_initializer= 'glorot_uniform', activation= 'sigmoid'))\n",
        "\n",
        "classifer.compile(optimizer= 'Adamax', loss= 'binary_crossentropy', metrics= ['accuracy'])\n",
        "\n",
        "model_history= classifer.fit(xtrain, ytrain, validation_split= 0.35, batch_size= 128, epochs= 60)\n",
        "\n",
        "print(model_history.history.keys())"
      ],
      "execution_count": 40,
      "outputs": [
        {
          "output_type": "stream",
          "text": [
            "Epoch 1/60\n",
            "41/41 [==============================] - 1s 6ms/step - loss: 0.6617 - accuracy: 0.7061 - val_loss: 0.5471 - val_accuracy: 0.7686\n",
            "Epoch 2/60\n",
            "41/41 [==============================] - 0s 3ms/step - loss: 0.6290 - accuracy: 0.7271 - val_loss: 0.5376 - val_accuracy: 0.7839\n",
            "Epoch 3/60\n",
            "41/41 [==============================] - 0s 3ms/step - loss: 0.6044 - accuracy: 0.7407 - val_loss: 0.5299 - val_accuracy: 0.7961\n",
            "Epoch 4/60\n",
            "41/41 [==============================] - 0s 2ms/step - loss: 0.6161 - accuracy: 0.7490 - val_loss: 0.5240 - val_accuracy: 0.8000\n",
            "Epoch 5/60\n",
            "41/41 [==============================] - 0s 3ms/step - loss: 0.5958 - accuracy: 0.7519 - val_loss: 0.5187 - val_accuracy: 0.8000\n",
            "Epoch 6/60\n",
            "41/41 [==============================] - 0s 3ms/step - loss: 0.5905 - accuracy: 0.7555 - val_loss: 0.5142 - val_accuracy: 0.7993\n",
            "Epoch 7/60\n",
            "41/41 [==============================] - 0s 3ms/step - loss: 0.5870 - accuracy: 0.7636 - val_loss: 0.5101 - val_accuracy: 0.7996\n",
            "Epoch 8/60\n",
            "41/41 [==============================] - 0s 2ms/step - loss: 0.5574 - accuracy: 0.7778 - val_loss: 0.5061 - val_accuracy: 0.7996\n",
            "Epoch 9/60\n",
            "41/41 [==============================] - 0s 3ms/step - loss: 0.5641 - accuracy: 0.7749 - val_loss: 0.5029 - val_accuracy: 0.7996\n",
            "Epoch 10/60\n",
            "41/41 [==============================] - 0s 3ms/step - loss: 0.5714 - accuracy: 0.7659 - val_loss: 0.4999 - val_accuracy: 0.7996\n",
            "Epoch 11/60\n",
            "41/41 [==============================] - 0s 2ms/step - loss: 0.5609 - accuracy: 0.7781 - val_loss: 0.4971 - val_accuracy: 0.7996\n",
            "Epoch 12/60\n",
            "41/41 [==============================] - 0s 2ms/step - loss: 0.5451 - accuracy: 0.7830 - val_loss: 0.4945 - val_accuracy: 0.7996\n",
            "Epoch 13/60\n",
            "41/41 [==============================] - 0s 2ms/step - loss: 0.5362 - accuracy: 0.7869 - val_loss: 0.4923 - val_accuracy: 0.7996\n",
            "Epoch 14/60\n",
            "41/41 [==============================] - 0s 2ms/step - loss: 0.5440 - accuracy: 0.7822 - val_loss: 0.4902 - val_accuracy: 0.7996\n",
            "Epoch 15/60\n",
            "41/41 [==============================] - 0s 3ms/step - loss: 0.5396 - accuracy: 0.7767 - val_loss: 0.4883 - val_accuracy: 0.7996\n",
            "Epoch 16/60\n",
            "41/41 [==============================] - 0s 3ms/step - loss: 0.5313 - accuracy: 0.7879 - val_loss: 0.4862 - val_accuracy: 0.7996\n",
            "Epoch 17/60\n",
            "41/41 [==============================] - 0s 2ms/step - loss: 0.5392 - accuracy: 0.7850 - val_loss: 0.4839 - val_accuracy: 0.7996\n",
            "Epoch 18/60\n",
            "41/41 [==============================] - 0s 2ms/step - loss: 0.5203 - accuracy: 0.7887 - val_loss: 0.4818 - val_accuracy: 0.7996\n",
            "Epoch 19/60\n",
            "41/41 [==============================] - 0s 3ms/step - loss: 0.5356 - accuracy: 0.7868 - val_loss: 0.4803 - val_accuracy: 0.7996\n",
            "Epoch 20/60\n",
            "41/41 [==============================] - 0s 2ms/step - loss: 0.5113 - accuracy: 0.7887 - val_loss: 0.4781 - val_accuracy: 0.7996\n",
            "Epoch 21/60\n",
            "41/41 [==============================] - 0s 3ms/step - loss: 0.5373 - accuracy: 0.7818 - val_loss: 0.4766 - val_accuracy: 0.7996\n",
            "Epoch 22/60\n",
            "41/41 [==============================] - 0s 2ms/step - loss: 0.5238 - accuracy: 0.7799 - val_loss: 0.4750 - val_accuracy: 0.7996\n",
            "Epoch 23/60\n",
            "41/41 [==============================] - 0s 2ms/step - loss: 0.5023 - accuracy: 0.7999 - val_loss: 0.4737 - val_accuracy: 0.7996\n",
            "Epoch 24/60\n",
            "41/41 [==============================] - 0s 2ms/step - loss: 0.4999 - accuracy: 0.7979 - val_loss: 0.4726 - val_accuracy: 0.7996\n",
            "Epoch 25/60\n",
            "41/41 [==============================] - 0s 3ms/step - loss: 0.5168 - accuracy: 0.7905 - val_loss: 0.4713 - val_accuracy: 0.7996\n",
            "Epoch 26/60\n",
            "41/41 [==============================] - 0s 3ms/step - loss: 0.5134 - accuracy: 0.7926 - val_loss: 0.4705 - val_accuracy: 0.7996\n",
            "Epoch 27/60\n",
            "41/41 [==============================] - 0s 3ms/step - loss: 0.5010 - accuracy: 0.7997 - val_loss: 0.4693 - val_accuracy: 0.7996\n",
            "Epoch 28/60\n",
            "41/41 [==============================] - 0s 2ms/step - loss: 0.5047 - accuracy: 0.7927 - val_loss: 0.4683 - val_accuracy: 0.7996\n",
            "Epoch 29/60\n",
            "41/41 [==============================] - 0s 3ms/step - loss: 0.5082 - accuracy: 0.7912 - val_loss: 0.4671 - val_accuracy: 0.7996\n",
            "Epoch 30/60\n",
            "41/41 [==============================] - 0s 2ms/step - loss: 0.4919 - accuracy: 0.7998 - val_loss: 0.4662 - val_accuracy: 0.7996\n",
            "Epoch 31/60\n",
            "41/41 [==============================] - 0s 3ms/step - loss: 0.4830 - accuracy: 0.7986 - val_loss: 0.4650 - val_accuracy: 0.7996\n",
            "Epoch 32/60\n",
            "41/41 [==============================] - 0s 2ms/step - loss: 0.4952 - accuracy: 0.7933 - val_loss: 0.4641 - val_accuracy: 0.7996\n",
            "Epoch 33/60\n",
            "41/41 [==============================] - 0s 2ms/step - loss: 0.4875 - accuracy: 0.7990 - val_loss: 0.4630 - val_accuracy: 0.7996\n",
            "Epoch 34/60\n",
            "41/41 [==============================] - 0s 3ms/step - loss: 0.4999 - accuracy: 0.7877 - val_loss: 0.4624 - val_accuracy: 0.7996\n",
            "Epoch 35/60\n",
            "41/41 [==============================] - 0s 3ms/step - loss: 0.4810 - accuracy: 0.7982 - val_loss: 0.4613 - val_accuracy: 0.7996\n",
            "Epoch 36/60\n",
            "41/41 [==============================] - 0s 3ms/step - loss: 0.4871 - accuracy: 0.7954 - val_loss: 0.4605 - val_accuracy: 0.7996\n",
            "Epoch 37/60\n",
            "41/41 [==============================] - 0s 2ms/step - loss: 0.4898 - accuracy: 0.7939 - val_loss: 0.4602 - val_accuracy: 0.7996\n",
            "Epoch 38/60\n",
            "41/41 [==============================] - 0s 2ms/step - loss: 0.5002 - accuracy: 0.7913 - val_loss: 0.4603 - val_accuracy: 0.7996\n",
            "Epoch 39/60\n",
            "41/41 [==============================] - 0s 3ms/step - loss: 0.4719 - accuracy: 0.8060 - val_loss: 0.4596 - val_accuracy: 0.7996\n",
            "Epoch 40/60\n",
            "41/41 [==============================] - 0s 3ms/step - loss: 0.4782 - accuracy: 0.8005 - val_loss: 0.4589 - val_accuracy: 0.7996\n",
            "Epoch 41/60\n",
            "41/41 [==============================] - 0s 3ms/step - loss: 0.4817 - accuracy: 0.7990 - val_loss: 0.4584 - val_accuracy: 0.7996\n",
            "Epoch 42/60\n",
            "41/41 [==============================] - 0s 3ms/step - loss: 0.4772 - accuracy: 0.8025 - val_loss: 0.4579 - val_accuracy: 0.7996\n",
            "Epoch 43/60\n",
            "41/41 [==============================] - 0s 3ms/step - loss: 0.4829 - accuracy: 0.7937 - val_loss: 0.4571 - val_accuracy: 0.7996\n",
            "Epoch 44/60\n",
            "41/41 [==============================] - 0s 2ms/step - loss: 0.4850 - accuracy: 0.7908 - val_loss: 0.4563 - val_accuracy: 0.7996\n",
            "Epoch 45/60\n",
            "41/41 [==============================] - 0s 3ms/step - loss: 0.4737 - accuracy: 0.7991 - val_loss: 0.4559 - val_accuracy: 0.7996\n",
            "Epoch 46/60\n",
            "41/41 [==============================] - 0s 3ms/step - loss: 0.4850 - accuracy: 0.7958 - val_loss: 0.4555 - val_accuracy: 0.7996\n",
            "Epoch 47/60\n",
            "41/41 [==============================] - 0s 3ms/step - loss: 0.4737 - accuracy: 0.7974 - val_loss: 0.4551 - val_accuracy: 0.7996\n",
            "Epoch 48/60\n",
            "41/41 [==============================] - 0s 2ms/step - loss: 0.4856 - accuracy: 0.7917 - val_loss: 0.4545 - val_accuracy: 0.7996\n",
            "Epoch 49/60\n",
            "41/41 [==============================] - 0s 2ms/step - loss: 0.4864 - accuracy: 0.7926 - val_loss: 0.4541 - val_accuracy: 0.7996\n",
            "Epoch 50/60\n",
            "41/41 [==============================] - 0s 3ms/step - loss: 0.4820 - accuracy: 0.7978 - val_loss: 0.4541 - val_accuracy: 0.7996\n",
            "Epoch 51/60\n",
            "41/41 [==============================] - 0s 3ms/step - loss: 0.4796 - accuracy: 0.7993 - val_loss: 0.4536 - val_accuracy: 0.7996\n",
            "Epoch 52/60\n",
            "41/41 [==============================] - 0s 3ms/step - loss: 0.4790 - accuracy: 0.7996 - val_loss: 0.4532 - val_accuracy: 0.7996\n",
            "Epoch 53/60\n",
            "41/41 [==============================] - 0s 3ms/step - loss: 0.4734 - accuracy: 0.7992 - val_loss: 0.4525 - val_accuracy: 0.7996\n",
            "Epoch 54/60\n",
            "41/41 [==============================] - 0s 3ms/step - loss: 0.4714 - accuracy: 0.7999 - val_loss: 0.4521 - val_accuracy: 0.7996\n",
            "Epoch 55/60\n",
            "41/41 [==============================] - 0s 3ms/step - loss: 0.4795 - accuracy: 0.7969 - val_loss: 0.4520 - val_accuracy: 0.7996\n",
            "Epoch 56/60\n",
            "41/41 [==============================] - 0s 3ms/step - loss: 0.4679 - accuracy: 0.8033 - val_loss: 0.4517 - val_accuracy: 0.7996\n",
            "Epoch 57/60\n",
            "41/41 [==============================] - 0s 2ms/step - loss: 0.4777 - accuracy: 0.7951 - val_loss: 0.4513 - val_accuracy: 0.7996\n",
            "Epoch 58/60\n",
            "41/41 [==============================] - 0s 2ms/step - loss: 0.4777 - accuracy: 0.7923 - val_loss: 0.4510 - val_accuracy: 0.7996\n",
            "Epoch 59/60\n",
            "41/41 [==============================] - 0s 2ms/step - loss: 0.4559 - accuracy: 0.8132 - val_loss: 0.4506 - val_accuracy: 0.7996\n",
            "Epoch 60/60\n",
            "41/41 [==============================] - 0s 2ms/step - loss: 0.4751 - accuracy: 0.7976 - val_loss: 0.4503 - val_accuracy: 0.7996\n",
            "dict_keys(['loss', 'accuracy', 'val_loss', 'val_accuracy'])\n"
          ],
          "name": "stdout"
        }
      ]
    },
    {
      "cell_type": "code",
      "metadata": {
        "colab": {
          "base_uri": "https://localhost:8080/"
        },
        "id": "p04yePr5J9LB",
        "outputId": "c104410e-0044-43d0-a344-9f755dc9b422"
      },
      "source": [
        "# Taking the prediction of the model using test data\n",
        "ypred= classifer.predict(xtest)\n",
        "ypred= ypred > 0.5 \n",
        "ypred"
      ],
      "execution_count": 35,
      "outputs": [
        {
          "output_type": "execute_result",
          "data": {
            "text/plain": [
              "array([[False],\n",
              "       [False],\n",
              "       [False],\n",
              "       ...,\n",
              "       [False],\n",
              "       [False],\n",
              "       [False]])"
            ]
          },
          "metadata": {
            "tags": []
          },
          "execution_count": 35
        }
      ]
    },
    {
      "cell_type": "code",
      "metadata": {
        "colab": {
          "base_uri": "https://localhost:8080/",
          "height": 295
        },
        "id": "hRFpspTWKJG6",
        "outputId": "22366c9f-c7a9-4582-a2f9-91a637535285"
      },
      "source": [
        "# Making the plots to see the progress of our model (For Accuracy)\n",
        "plt.plot(model_history.history['accuracy'])\n",
        "plt.plot(model_history.history['val_accuracy'])\n",
        "plt.title('Accuracy of the Model')\n",
        "plt.xlabel('Epochs')\n",
        "plt.ylabel('Accuracy')\n",
        "plt.legend(['train', 'test'])\n",
        "plt.show()"
      ],
      "execution_count": 36,
      "outputs": [
        {
          "output_type": "display_data",
          "data": {
            "image/png": "[encoded data removed]",
            "text/plain": [
              "<Figure size 432x288 with 1 Axes>"
            ]
          },
          "metadata": {
            "tags": [],
            "needs_background": "light"
          }
        }
      ]
    },
    {
      "cell_type": "code",
      "metadata": {
        "colab": {
          "base_uri": "https://localhost:8080/",
          "height": 295
        },
        "id": "DgT3JxQmflys",
        "outputId": "5ff93a5d-f329-4c00-f44a-26b9fe9ae00f"
      },
      "source": [
        "# Making the plots to track the progress of the model (For loss)\n",
        "plt.plot(model_history.history['loss'])\n",
        "plt.plot(model_history.history['val_loss'])\n",
        "plt.title('Loss of the Model')\n",
        "plt.xlabel('Epochs')\n",
        "plt.ylabel('Loss')\n",
        "plt.legend(['train', 'test'])\n",
        "plt.show()"
      ],
      "execution_count": 33,
      "outputs": [
        {
          "output_type": "display_data",
          "data": {
            "image/png": "[encoded data removed]",
            "text/plain": [
              "<Figure size 432x288 with 1 Axes>"
            ]
          },
          "metadata": {
            "tags": [],
            "needs_background": "light"
          }
        }
      ]
    },
    {
      "cell_type": "code",
      "metadata": {
        "colab": {
          "base_uri": "https://localhost:8080/"
        },
        "id": "rPYYiovVg7To",
        "outputId": "5817549f-9a46-4501-93b2-86ec960fcc81"
      },
      "source": [
        "# Getting the score of the model for the test dataset\n",
        "from sklearn.metrics import accuracy_score\n",
        "test_accuracy= accuracy_score(ypred, ytest)\n",
        "test_accuracy"
      ],
      "execution_count": 38,
      "outputs": [
        {
          "output_type": "execute_result",
          "data": {
            "text/plain": [
              "0.8065"
            ]
          },
          "metadata": {
            "tags": []
          },
          "execution_count": 38
        }
      ]
    },
    {
      "cell_type": "code",
      "metadata": {
        "id": "5tgzo830h9jh"
      },
      "source": [
        ""
      ],
      "execution_count": null,
      "outputs": []
    }
  ]
}